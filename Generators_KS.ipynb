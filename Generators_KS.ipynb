{
 "cells": [
  {
   "cell_type": "markdown",
   "id": "813cd5ed-3507-4d4c-bb9f-58002b426fb8",
   "metadata": {},
   "source": [
    "## Introduction to JupyerLab\n",
    "\n",
    "If you are new to Jupyter notebooks, watch the short video below. Otherwise, skip to the Generators section below"
   ]
  },
  {
   "cell_type": "code",
   "execution_count": 14,
   "id": "2d621e96-4d14-43ad-8c6a-f2222332ffbd",
   "metadata": {
    "jupyter": {
     "source_hidden": true
    }
   },
   "outputs": [
    {
     "data": {
      "text/html": [
       "\n",
       "        <iframe\n",
       "            width=\"800\"\n",
       "            height=\"450\"\n",
       "            src=\"https://www.youtube.com/embed/zIHvUiPtXf8/\"\n",
       "            frameborder=\"0\"\n",
       "            allowfullscreen\n",
       "            \n",
       "        ></iframe>\n",
       "        "
      ],
      "text/plain": [
       "<IPython.lib.display.YouTubeVideo at 0x10e435430>"
      ]
     },
     "execution_count": 14,
     "metadata": {},
     "output_type": "execute_result"
    }
   ],
   "source": [
    "from IPython.display import YouTubeVideo\n",
    "\n",
    "YouTubeVideo('zIHvUiPtXf8/', width=800, height=450)\n"
   ]
  },
  {
   "cell_type": "markdown",
   "id": "25c9cda0-bb61-4442-bd03-30cbcb41e0f7",
   "metadata": {},
   "source": [
    "---\n",
    "\n",
    "## Introduction to Generators"
   ]
  },
  {
   "cell_type": "code",
   "execution_count": 15,
   "id": "8e8b7fe0-f106-4960-9192-eb8b858d5146",
   "metadata": {},
   "outputs": [
    {
     "data": {
      "text/html": [
       "\n",
       "        <iframe\n",
       "            width=\"800\"\n",
       "            height=\"450\"\n",
       "            src=\"https://www.youtube.com/embed/wZrHYrWu0aI/\"\n",
       "            frameborder=\"0\"\n",
       "            allowfullscreen\n",
       "            \n",
       "        ></iframe>\n",
       "        "
      ],
      "text/plain": [
       "<IPython.lib.display.YouTubeVideo at 0x10e435970>"
      ]
     },
     "execution_count": 15,
     "metadata": {},
     "output_type": "execute_result"
    }
   ],
   "source": [
    "YouTubeVideo('wZrHYrWu0aI/', width=800, height=450)"
   ]
  },
  {
   "cell_type": "markdown",
   "id": "6075b233-4295-4888-9cb4-9776647ec760",
   "metadata": {},
   "source": [
    "\n",
    "### Lists vs Generators\n",
    "\n",
    "**Lists** \n",
    "\n",
    "* Store all the data in memory\n",
    "* You can access any element\n",
    "* You can loop over the list multiple times\n",
    "* Easy to use\n",
    "\n",
    "**Generators**\n",
    "\n",
    "* You can only access the data once, and access it one at a time\n",
    "\n",
    "This looks like a weakness, but generators have a huge advantage:\n",
    "\n",
    "\n",
    "\n",
    "* They can work on infinite sequences, like the Fibonacci series or prime numbers. Since a generator only processes a data when needed, it can keep chugging one data point at a time\n",
    "\n",
    "* They can work with extremely large data and files-- since they dont hold the whole thing in memory.\n",
    "\n",
    "We will see this in action when we build a practical project.\n",
    "\n",
    "For now, a quick introduction to iterators. Once you have seen the video above, play with the examples below.\n",
    "\n",
    "---\n",
    "\n",
    "Lists:\n",
    "\n",
    "Lists store all their data in memory:"
   ]
  },
  {
   "cell_type": "code",
   "execution_count": null,
   "id": "cae5bd55-8228-4cdb-b5c7-646e41d770ea",
   "metadata": {},
   "outputs": [],
   "source": [
    "my_list = [1,2,3,4,5,6]\n",
    "\n",
    "for ml in my_list:\n",
    "    print(ml)"
   ]
  },
  {
   "cell_type": "markdown",
   "id": "2ffb43cc-cd90-4421-986d-56fa3f484fb5",
   "metadata": {},
   "source": [
    "Which means you can do random access:\n"
   ]
  },
  {
   "cell_type": "code",
   "execution_count": null,
   "id": "175d73b4-4ebd-40d0-9d26-7add11e63b17",
   "metadata": {},
   "outputs": [],
   "source": [
    "print(my_list[3])"
   ]
  },
  {
   "cell_type": "markdown",
   "id": "8c6f47a1-5bd6-44b6-82c4-782aeb405a48",
   "metadata": {},
   "source": [
    "**Iterators**\n",
    "\n",
    "Iterators can only be read one item at a time. We will see how this is useful later.\n",
    "\n",
    "You can create an iterator with the _iter()_ function, and read each item using the _next()_ function"
   ]
  },
  {
   "cell_type": "code",
   "execution_count": 7,
   "id": "d570c05c-86e7-47e8-baf8-a45b25e4e3ac",
   "metadata": {},
   "outputs": [
    {
     "name": "stdout",
     "output_type": "stream",
     "text": [
      "1\n",
      "2\n"
     ]
    }
   ],
   "source": [
    "# Example of iterating over a list\n",
    "my_list = [1, 2, 3, 4, 5]\n",
    "my_iterator = iter(my_list)\n",
    "print(next(my_iterator))  \n",
    "print(next(my_iterator)) \n"
   ]
  },
  {
   "cell_type": "markdown",
   "id": "b2ecccbe-5806-452f-a551-3b776a9b915d",
   "metadata": {},
   "source": [
    "---\n",
    "\n",
    "### Generator are a special kind of iterator"
   ]
  },
  {
   "cell_type": "code",
   "execution_count": 18,
   "id": "22f6c16e-c041-467e-b74c-abaf82e211bd",
   "metadata": {},
   "outputs": [
    {
     "data": {
      "image/jpeg": "[encoded data removed]",
      "text/html": [
       "\n",
       "        <iframe\n",
       "            width=\"800\"\n",
       "            height=\"450\"\n",
       "            src=\"https://www.youtube.com/embed/_1So_TQCd2M\"\n",
       "            frameborder=\"0\"\n",
       "            allowfullscreen\n",
       "            \n",
       "        ></iframe>\n",
       "        "
      ],
      "text/plain": [
       "<IPython.lib.display.YouTubeVideo at 0x10e435f10>"
      ]
     },
     "execution_count": 18,
     "metadata": {},
     "output_type": "execute_result"
    }
   ],
   "source": [
    "YouTubeVideo('_1So_TQCd2M', width=800, height=450)"
   ]
  },
  {
   "cell_type": "markdown",
   "id": "88a373d5-1b0d-4510-8726-d2aa15786a23",
   "metadata": {},
   "source": [
    "\n",
    "\n",
    "Functions using the yield keyword are generators. Anytime a function sees a yield:\n",
    "\n",
    "1. It will return with the value produced in that iterator\n",
    "2. It will save the function state\n",
    "\n",
    "(2) is the critical, as you can call the generator multiple times and it will \"remember\" where it was in last execution\n",
    "\n",
    "**Lazy Evaluation**\n",
    "\n",
    "Generators only calculate an expression when the data is needed. This is called lazy evaluation and means generators can work with large amounts of data.\n"
   ]
  },
  {
   "cell_type": "code",
   "execution_count": 8,
   "id": "74bcb5e1-6c89-4155-baf8-bdcc4889499f",
   "metadata": {},
   "outputs": [
    {
     "name": "stdout",
     "output_type": "stream",
     "text": [
      "1\n",
      "2\n",
      "3\n"
     ]
    }
   ],
   "source": [
    "def my_generator():\n",
    "    yield 1\n",
    "    yield 2\n",
    "    yield 3\n",
    "\n",
    "gen = my_generator()\n",
    "print(next(gen)) \n",
    "print(next(gen))\n",
    "print(next(gen))\n",
    "#print(next(gen)) --> What happens if you uncomment this??\n"
   ]
  },
  {
   "cell_type": "markdown",
   "id": "861fdc5e-df55-4f59-94b2-0f6c66ddd4b6",
   "metadata": {},
   "source": [
    "## Practice Sessions / Challenges\n",
    "\n",
    "TODO: Video iuntroducing practice and challenge\n",
    "\n",
    "**Practice 1: Function to return Squares**\n",
    "\n",
    "Here are 2 examples , one using a list, one using a generator. Note the list one stores the value in memory-- can you imagine what would happen if you ran both the functions below with 1 million or 100 million?\n"
   ]
  },
  {
   "cell_type": "code",
   "execution_count": null,
   "id": "c052bd93-5b00-4e5f-a48f-8e169bc2cf94",
   "metadata": {},
   "outputs": [],
   "source": [
    "def squares_using_list(number):\n",
    "    squares_list=[]\n",
    "    for i in range(1, number+1):\n",
    "        squares_list.append(i * i)\n",
    "    return squares_list\n",
    "\n",
    "print(squares_using_list(10))"
   ]
  },
  {
   "cell_type": "code",
   "execution_count": null,
   "id": "d41623fb-7832-4b13-a2b6-3fca87346d9f",
   "metadata": {},
   "outputs": [],
   "source": [
    "def squares_using_generator(n):\n",
    "    for i in range(1, n + 1):\n",
    "        yield i * i\n",
    "\n",
    "\n",
    "squared_gen = squares_using_generator(10)\n",
    "for num in squared_gen:\n",
    "    print(num)  \n"
   ]
  },
  {
   "cell_type": "markdown",
   "id": "a2fe14b6-7ad4-4572-a011-8c925f10968a",
   "metadata": {},
   "source": [
    "---\n",
    "\n",
    "### Challenge 1\n",
    "\n",
    "Write a function to return all the even numbers. Skeleton code is given. try it both with a list and a generator.\n"
   ]
  },
  {
   "cell_type": "code",
   "execution_count": null,
   "id": "b26c8a09-2c47-4259-bedb-9aca5cf13318",
   "metadata": {},
   "outputs": [],
   "source": [
    "def even_numbers(n):\n",
    "    pass #TODO\n",
    "\n",
    "\n",
    "even_gen = even_numbers(10)\n",
    "for num in even_gen:\n",
    "    print(num) "
   ]
  },
  {
   "cell_type": "markdown",
   "id": "61e7b0b6-8236-42c1-b653-f04a1ebe00c0",
   "metadata": {},
   "source": [
    "**Solution:**\n",
    "  \n",
    "TODO\n",
    "\n",
    "### Challenge 2 & 3\n",
    "\n",
    "2. Fibonacci\n",
    "3.  cumulative sum\n",
    "\n",
    "TODO-- _The code is done, need to write tutorials_\n",
    "\n"
   ]
  },
  {
   "cell_type": "markdown",
   "id": "96f3d497-06ad-41b4-a41b-bcb482e9ae3a",
   "metadata": {},
   "source": [
    "## Practical Project\n",
    "\n",
    "Build a log parser that can parse large log files (8GB or larger) without loading whole file in memory and possibly crashing system.\n",
    "\n",
    "\n",
    "**Part 1** Generate a huge file (8GB or larger)\n",
    "\n",
    "**Part 2** Can we open this large file using normal open and read?? (Hint, No!)\n",
    "\n",
    "**Part 3** Read file line by line , and read using generators\n",
    "\n",
    "\n",
    "TODO _The code is done, need to write tutorials_"
   ]
  },
  {
   "cell_type": "code",
   "execution_count": null,
   "id": "7d1d8bd9-a67d-4771-8ed4-2010cec51e09",
   "metadata": {},
   "outputs": [],
   "source": []
  }
 ],
 "metadata": {
  "kernelspec": {
   "display_name": "Python 3 (ipykernel)",
   "language": "python",
   "name": "python3"
  },
  "language_info": {
   "codemirror_mode": {
    "name": "ipython",
    "version": 3
   },
   "file_extension": ".py",
   "mimetype": "text/x-python",
   "name": "python",
   "nbconvert_exporter": "python",
   "pygments_lexer": "ipython3",
   "version": "3.12.2"
  }
 },
 "nbformat": 4,
 "nbformat_minor": 5
}
